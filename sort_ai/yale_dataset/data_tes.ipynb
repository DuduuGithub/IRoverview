{
 "cells": [
  {
   "cell_type": "code",
   "execution_count": 2,
   "metadata": {},
   "outputs": [],
   "source": [
    "import pandas as pd\n"
   ]
  },
  {
   "cell_type": "code",
   "execution_count": 4,
   "metadata": {},
   "outputs": [
    {
     "data": {
      "text/html": [
       "<div>\n",
       "<style scoped>\n",
       "    .dataframe tbody tr th:only-of-type {\n",
       "        vertical-align: middle;\n",
       "    }\n",
       "\n",
       "    .dataframe tbody tr th {\n",
       "        vertical-align: top;\n",
       "    }\n",
       "\n",
       "    .dataframe thead th {\n",
       "        text-align: right;\n",
       "    }\n",
       "</style>\n",
       "<table border=\"1\" class=\"dataframe\">\n",
       "  <thead>\n",
       "    <tr style=\"text-align: right;\">\n",
       "      <th></th>\n",
       "      <th>query_set</th>\n",
       "      <th>query</th>\n",
       "      <th>specificity</th>\n",
       "      <th>quality</th>\n",
       "      <th>corpusids</th>\n",
       "    </tr>\n",
       "  </thead>\n",
       "  <tbody>\n",
       "    <tr>\n",
       "      <th>0</th>\n",
       "      <td>inline_acl</td>\n",
       "      <td>Are there any research papers on methods to co...</td>\n",
       "      <td>0</td>\n",
       "      <td>2</td>\n",
       "      <td>[202719327]</td>\n",
       "    </tr>\n",
       "    <tr>\n",
       "      <th>1</th>\n",
       "      <td>inline_acl</td>\n",
       "      <td>Are there any resources available for translat...</td>\n",
       "      <td>1</td>\n",
       "      <td>2</td>\n",
       "      <td>[227231792]</td>\n",
       "    </tr>\n",
       "    <tr>\n",
       "      <th>2</th>\n",
       "      <td>inline_acl</td>\n",
       "      <td>Are there any studies that explore post-hoc te...</td>\n",
       "      <td>0</td>\n",
       "      <td>2</td>\n",
       "      <td>[226254579, 204976362]</td>\n",
       "    </tr>\n",
       "    <tr>\n",
       "      <th>3</th>\n",
       "      <td>inline_acl</td>\n",
       "      <td>Are there any tools or studies that have focus...</td>\n",
       "      <td>1</td>\n",
       "      <td>2</td>\n",
       "      <td>[10961392, 12160022]</td>\n",
       "    </tr>\n",
       "    <tr>\n",
       "      <th>4</th>\n",
       "      <td>inline_acl</td>\n",
       "      <td>Are there papers that propose contextualized c...</td>\n",
       "      <td>1</td>\n",
       "      <td>2</td>\n",
       "      <td>[233296182]</td>\n",
       "    </tr>\n",
       "  </tbody>\n",
       "</table>\n",
       "</div>"
      ],
      "text/plain": [
       "    query_set                                              query  specificity  \\\n",
       "0  inline_acl  Are there any research papers on methods to co...            0   \n",
       "1  inline_acl  Are there any resources available for translat...            1   \n",
       "2  inline_acl  Are there any studies that explore post-hoc te...            0   \n",
       "3  inline_acl  Are there any tools or studies that have focus...            1   \n",
       "4  inline_acl  Are there papers that propose contextualized c...            1   \n",
       "\n",
       "   quality               corpusids  \n",
       "0        2             [202719327]  \n",
       "1        2             [227231792]  \n",
       "2        2  [226254579, 204976362]  \n",
       "3        2    [10961392, 12160022]  \n",
       "4        2             [233296182]  "
      ]
     },
     "execution_count": 4,
     "metadata": {},
     "output_type": "execute_result"
    }
   ],
   "source": [
    "query = pd.read_parquet(\"./query/full-00000-of-00001.parquet\")\n",
    "query.head()"
   ]
  },
  {
   "cell_type": "code",
   "execution_count": 5,
   "metadata": {},
   "outputs": [],
   "source": [
    "corpus = pd.read_parquet(\"./corpus_new/full-00000-of-00001.parquet\")"
   ]
  },
  {
   "cell_type": "code",
   "execution_count": 6,
   "metadata": {},
   "outputs": [
    {
     "data": {
      "text/html": [
       "<div>\n",
       "<style scoped>\n",
       "    .dataframe tbody tr th:only-of-type {\n",
       "        vertical-align: middle;\n",
       "    }\n",
       "\n",
       "    .dataframe tbody tr th {\n",
       "        vertical-align: top;\n",
       "    }\n",
       "\n",
       "    .dataframe thead th {\n",
       "        text-align: right;\n",
       "    }\n",
       "</style>\n",
       "<table border=\"1\" class=\"dataframe\">\n",
       "  <thead>\n",
       "    <tr style=\"text-align: right;\">\n",
       "      <th></th>\n",
       "      <th>corpusid</th>\n",
       "      <th>title</th>\n",
       "      <th>abstract</th>\n",
       "      <th>citations</th>\n",
       "      <th>full_paper</th>\n",
       "    </tr>\n",
       "  </thead>\n",
       "  <tbody>\n",
       "    <tr>\n",
       "      <th>0</th>\n",
       "      <td>253523474</td>\n",
       "      <td>CHARACTERIZING THE SPECTRUM OF THE NTK VIA A P...</td>\n",
       "      <td>Under mild conditions on the network initializ...</td>\n",
       "      <td>[2780493, 221836662, 245906072, 3708505, 22206...</td>\n",
       "      <td>CHARACTERIZING THE SPECTRUM OF THE NTK VIA A P...</td>\n",
       "    </tr>\n",
       "    <tr>\n",
       "      <th>1</th>\n",
       "      <td>263831863</td>\n",
       "      <td>SELF-SUPERVISED DATASET DISTILLATION FOR TRANS...</td>\n",
       "      <td>Dataset distillation methods have achieved rem...</td>\n",
       "      <td>[219558792, 14124313, 49411844, 226226438]</td>\n",
       "      <td>SELF-SUPERVISED DATASET DISTILLATION FOR TRANS...</td>\n",
       "    </tr>\n",
       "    <tr>\n",
       "      <th>2</th>\n",
       "      <td>259342096</td>\n",
       "      <td>Mixture-of-Experts Meets Instruction Tuning: A...</td>\n",
       "      <td>Sparse Mixture-of-Experts (MoE) is a neural ar...</td>\n",
       "      <td>[237416585, 12462234, 220047831]</td>\n",
       "      <td>Mixture-of-Experts Meets Instruction Tuning: A...</td>\n",
       "    </tr>\n",
       "    <tr>\n",
       "      <th>3</th>\n",
       "      <td>254926490</td>\n",
       "      <td>TASK AMBIGUITY IN HUMANS AND LANGUAGE MODELS</td>\n",
       "      <td>Language models have recently achieved strong ...</td>\n",
       "      <td>[240288835, 239009828, 237492197, 237491751, 5...</td>\n",
       "      <td>TASK AMBIGUITY IN HUMANS AND LANGUAGE MODELS\\n...</td>\n",
       "    </tr>\n",
       "    <tr>\n",
       "      <th>4</th>\n",
       "      <td>252683543</td>\n",
       "      <td>A NON-MONOTONIC SELF-TERMINATING LANGUAGE MODEL</td>\n",
       "      <td>Recent large-scale neural autoregressive seque...</td>\n",
       "      <td>[44134226]</td>\n",
       "      <td>A NON-MONOTONIC SELF-TERMINATING LANGUAGE MODE...</td>\n",
       "    </tr>\n",
       "  </tbody>\n",
       "</table>\n",
       "</div>"
      ],
      "text/plain": [
       "    corpusid                                              title  \\\n",
       "0  253523474  CHARACTERIZING THE SPECTRUM OF THE NTK VIA A P...   \n",
       "1  263831863  SELF-SUPERVISED DATASET DISTILLATION FOR TRANS...   \n",
       "2  259342096  Mixture-of-Experts Meets Instruction Tuning: A...   \n",
       "3  254926490       TASK AMBIGUITY IN HUMANS AND LANGUAGE MODELS   \n",
       "4  252683543    A NON-MONOTONIC SELF-TERMINATING LANGUAGE MODEL   \n",
       "\n",
       "                                            abstract  \\\n",
       "0  Under mild conditions on the network initializ...   \n",
       "1  Dataset distillation methods have achieved rem...   \n",
       "2  Sparse Mixture-of-Experts (MoE) is a neural ar...   \n",
       "3  Language models have recently achieved strong ...   \n",
       "4  Recent large-scale neural autoregressive seque...   \n",
       "\n",
       "                                           citations  \\\n",
       "0  [2780493, 221836662, 245906072, 3708505, 22206...   \n",
       "1         [219558792, 14124313, 49411844, 226226438]   \n",
       "2                   [237416585, 12462234, 220047831]   \n",
       "3  [240288835, 239009828, 237492197, 237491751, 5...   \n",
       "4                                         [44134226]   \n",
       "\n",
       "                                          full_paper  \n",
       "0  CHARACTERIZING THE SPECTRUM OF THE NTK VIA A P...  \n",
       "1  SELF-SUPERVISED DATASET DISTILLATION FOR TRANS...  \n",
       "2  Mixture-of-Experts Meets Instruction Tuning: A...  \n",
       "3  TASK AMBIGUITY IN HUMANS AND LANGUAGE MODELS\\n...  \n",
       "4  A NON-MONOTONIC SELF-TERMINATING LANGUAGE MODE...  "
      ]
     },
     "execution_count": 6,
     "metadata": {},
     "output_type": "execute_result"
    }
   ],
   "source": [
    "corpus.head()"
   ]
  },
  {
   "cell_type": "code",
   "execution_count": 12,
   "metadata": {},
   "outputs": [
    {
     "name": "stderr",
     "output_type": "stream",
     "text": [
      "d:\\code\\env_py\\torch_deeplearning\\Lib\\site-packages\\tqdm\\auto.py:21: TqdmWarning: IProgress not found. Please update jupyter and ipywidgets. See https://ipywidgets.readthedocs.io/en/stable/user_install.html\n",
      "  from .autonotebook import tqdm as notebook_tqdm\n"
     ]
    }
   ],
   "source": [
    "from datasets import load_dataset"
   ]
  }
 ],
 "metadata": {
  "kernelspec": {
   "display_name": "Python 3",
   "language": "python",
   "name": "python3"
  },
  "language_info": {
   "codemirror_mode": {
    "name": "ipython",
    "version": 3
   },
   "file_extension": ".py",
   "mimetype": "text/x-python",
   "name": "python",
   "nbconvert_exporter": "python",
   "pygments_lexer": "ipython3",
   "version": "3.13.3"
  }
 },
 "nbformat": 4,
 "nbformat_minor": 2
}
